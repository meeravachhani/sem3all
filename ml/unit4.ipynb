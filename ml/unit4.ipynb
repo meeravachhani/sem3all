{
 "cells": [
  {
   "cell_type": "code",
   "execution_count": 2,
   "id": "b7aa4e6a-dd88-4c4b-80fb-446ee6ba87f2",
   "metadata": {},
   "outputs": [
    {
     "name": "stderr",
     "output_type": "stream",
     "text": [
      "[nltk_data] Downloading package punkt_tab to\n",
      "[nltk_data]     C:\\Users\\atmiya\\AppData\\Roaming\\nltk_data...\n",
      "[nltk_data]   Package punkt_tab is already up-to-date!\n"
     ]
    },
    {
     "data": {
      "text/plain": [
       "True"
      ]
     },
     "execution_count": 2,
     "metadata": {},
     "output_type": "execute_result"
    }
   ],
   "source": [
    "#unit 4\n",
    "#pip install nltk\n",
    "import nltk\n",
    "nltk.download('punkt_tab')#need to be done once"
   ]
  },
  {
   "cell_type": "code",
   "execution_count": 5,
   "id": "bdc928a3-ea84-4f54-b5ea-d0592d228583",
   "metadata": {},
   "outputs": [
    {
     "name": "stdout",
     "output_type": "stream",
     "text": [
      "sentence tokeniser:- ['i love nlp.', \"it's fun, isn't it?\"]\n",
      "sentence tokeniser:- [\"i love nlp.It's fun, isn't it?\"]\n"
     ]
    }
   ],
   "source": [
    "#applyning the sentence tokenization on the next\n",
    "from nltk.tokenize import sent_tokenize\n",
    "#input ntext\n",
    "text=\"i love nlp. it's fun, isn't it?\"\n",
    "text1=\"i love nlp.It's fun, isn't it?\"\n",
    "\n",
    "#sentence tokenize\n",
    "tokenised_sentence=sent_tokenize(text)\n",
    "print('sentence tokeniser:-',tokenised_sentence)\n",
    "tokenised_sentence1=sent_tokenize(text1)\n",
    "print('sentence tokeniser:-',tokenised_sentence1)"
   ]
  },
  {
   "cell_type": "code",
   "execution_count": 9,
   "id": "a939f3de-09bd-4d99-adb0-2e59fbe56d3f",
   "metadata": {},
   "outputs": [
    {
     "name": "stdout",
     "output_type": "stream",
     "text": [
      "word tokeniser:- ['i', 'love', 'nlp', '.', 'it', \"'s\", 'fun', ',', 'is', \"n't\", 'it', '?']\n"
     ]
    }
   ],
   "source": [
    "#applying the word tokenization on the text\n",
    "from nltk.tokenize import word_tokenize\n",
    "#input text\n",
    "text=\"i love nlp. it's fun, isn't it?\"\n",
    "#word tokenistion\n",
    "tokenised_word=word_tokenize(text)\n",
    "print('word tokeniser:-',tokenised_word)"
   ]
  },
  {
   "cell_type": "code",
   "execution_count": 10,
   "id": "52dcd109-4ee0-444e-8f10-6d209349a0dd",
   "metadata": {},
   "outputs": [
    {
     "name": "stdout",
     "output_type": "stream",
     "text": [
      "word tokeniser:- ['i', 'love', 'nlp', '.', 'it', \"'\", 's', 'fun', ',', 'isn', \"'\", 't', 'it', '?']\n"
     ]
    }
   ],
   "source": [
    "#applying the word punctuation on the text\n",
    "from nltk.tokenize import wordpunct_tokenize\n",
    "#input text\n",
    "text=\"i love nlp. it's fun, isn't it?\"\n",
    "#word tokenisation\n",
    "tokenised_wordpunct=wordpunct_tokenize(text)\n",
    "print('word tokeniser:-',tokenised_wordpunct)"
   ]
  },
  {
   "cell_type": "code",
   "execution_count": 17,
   "id": "c0da443a-8a02-4750-adba-6bed59dcd09f",
   "metadata": {},
   "outputs": [
    {
     "name": "stdout",
     "output_type": "stream",
     "text": [
      "Porter Stemmer\n",
      "student --> student\n",
      "water --> water\n",
      "studies --> studi\n",
      "studying --> studi\n",
      "happiness --> happi\n",
      "playing --> play\n",
      "played --> play\n",
      "teaching --> teach\n",
      "player --> player\n",
      "clothes --> cloth\n",
      "\n",
      "Snowball Stemmer\n",
      "student --> student\n",
      "water --> water\n",
      "studies --> studi\n",
      "studying --> studi\n",
      "happiness --> happi\n",
      "playing --> play\n",
      "played --> play\n",
      "teaching --> teach\n",
      "player --> player\n",
      "clothes --> cloth\n",
      "\n",
      "Lancaster Stemmer\n",
      "student --> stud\n",
      "water --> wat\n",
      "studies --> study\n",
      "studying --> study\n",
      "happiness --> happy\n",
      "playing --> play\n",
      "played --> play\n",
      "teaching --> teach\n",
      "player --> play\n",
      "clothes --> cloth\n"
     ]
    }
   ],
   "source": [
    "#Stemming all 3 in one\n",
    "from nltk.stem import PorterStemmer, SnowballStemmer, LancasterStemmer\n",
    "\n",
    "#Creating the object of stemmer\n",
    "porter = PorterStemmer()\n",
    "snowball = SnowballStemmer('english')\n",
    "lancaster = LancasterStemmer()\n",
    "\n",
    "#Input words\n",
    "words = [\"student\", \"water\", \"studies\", \"studying\", \"happiness\", \"playing\", \"played\",\"teaching\",\"player\"]\n",
    "\n",
    "print('Porter Stemmer')\n",
    "for w in words:\n",
    "    print(w, '-->', porter.stem(w))\n",
    "\n",
    "print('\\nSnowball Stemmer')\n",
    "for w in words:\n",
    "    print(w, '-->', snowball.stem(w))\n",
    "\n",
    "print('\\nLancaster Stemmer')\n",
    "for w in words:\n",
    "    print(w, '-->', lancaster.stem(w))\n"
   ]
  },
  {
   "cell_type": "code",
   "execution_count": 2,
   "id": "23a1a46d-4fe2-4ed9-bca2-aa328c431bca",
   "metadata": {},
   "outputs": [
    {
     "data": {
      "application/vnd.jupyter.widget-view+json": {
       "model_id": "9fb50b92646c45dfacab3dfa20858616",
       "version_major": 2,
       "version_minor": 0
      },
      "text/plain": [
       "Downloading https://raw.githubusercontent.com/stanfordnlp/stanza-resources/main/resources_1.10.0.json:   0%|  …"
      ]
     },
     "metadata": {},
     "output_type": "display_data"
    },
    {
     "name": "stderr",
     "output_type": "stream",
     "text": [
      "2025-09-08 11:08:05 INFO: Downloaded file to C:\\Users\\atmiya\\stanza_resources\\resources.json\n",
      "2025-09-08 11:08:05 INFO: Downloading default packages for language: en (English) ...\n"
     ]
    },
    {
     "data": {
      "application/vnd.jupyter.widget-view+json": {
       "model_id": "d38d22e8eecc49c78c34482b7e6f5abb",
       "version_major": 2,
       "version_minor": 0
      },
      "text/plain": [
       "Downloading https://huggingface.co/stanfordnlp/stanza-en/resolve/v1.10.0/models/default.zip:   0%|          | …"
      ]
     },
     "metadata": {},
     "output_type": "display_data"
    },
    {
     "name": "stderr",
     "output_type": "stream",
     "text": [
      "2025-09-08 11:08:52 INFO: Downloaded file to C:\\Users\\atmiya\\stanza_resources\\en\\default.zip\n",
      "2025-09-08 11:08:56 INFO: Finished downloading models and saved to C:\\Users\\atmiya\\stanza_resources\n"
     ]
    }
   ],
   "source": [
    "#Lemmatization\n",
    "#pip install stanza\n",
    "import stanza\n",
    "stanza.download(\"en\")  "
   ]
  },
  {
   "cell_type": "code",
   "execution_count": 3,
   "id": "b985c2c7-2a8c-4d67-a102-718aaaded7ec",
   "metadata": {},
   "outputs": [
    {
     "name": "stderr",
     "output_type": "stream",
     "text": [
      "2025-09-08 11:09:05 INFO: Checking for updates to resources.json in case models have been updated.  Note: this behavior can be turned off with download_method=None or download_method=DownloadMethod.REUSE_RESOURCES\n"
     ]
    },
    {
     "data": {
      "application/vnd.jupyter.widget-view+json": {
       "model_id": "4810bdb2a2c64ae1910a132afbb3ce74",
       "version_major": 2,
       "version_minor": 0
      },
      "text/plain": [
       "Downloading https://raw.githubusercontent.com/stanfordnlp/stanza-resources/main/resources_1.10.0.json:   0%|  …"
      ]
     },
     "metadata": {},
     "output_type": "display_data"
    },
    {
     "name": "stderr",
     "output_type": "stream",
     "text": [
      "2025-09-08 11:09:05 INFO: Downloaded file to C:\\Users\\atmiya\\stanza_resources\\resources.json\n",
      "2025-09-08 11:09:06 INFO: Loading these models for language: en (English):\n",
      "=================================\n",
      "| Processor | Package           |\n",
      "---------------------------------\n",
      "| tokenize  | combined          |\n",
      "| mwt       | combined          |\n",
      "| pos       | combined_charlm   |\n",
      "| lemma     | combined_nocharlm |\n",
      "=================================\n",
      "\n",
      "2025-09-08 11:09:06 INFO: Using device: cpu\n",
      "2025-09-08 11:09:06 INFO: Loading: tokenize\n",
      "2025-09-08 11:09:07 INFO: Loading: mwt\n",
      "2025-09-08 11:09:07 INFO: Loading: pos\n",
      "2025-09-08 11:09:09 INFO: Loading: lemma\n",
      "2025-09-08 11:09:10 INFO: Done loading processors!\n"
     ]
    },
    {
     "name": "stdout",
     "output_type": "stream",
     "text": [
      "The --> the\n",
      "children --> child\n",
      "are --> be\n",
      "learning --> learn\n",
      "with --> with\n",
      "their --> their\n",
      "toys --> toy\n",
      "and --> and\n",
      "games --> game\n",
      "are --> be\n",
      "ongoing --> ongoing\n",
      ". --> .\n"
     ]
    }
   ],
   "source": [
    "#Lemmatization\n",
    "#pip install stanza\n",
    "import stanza\n",
    "nlp=stanza.Pipeline(lang='en',processors='tokenize,mwt,pos,lemma')\n",
    "text=\"The children are learning with their toys and games are ongoing.\"\n",
    "doc=nlp(text)\n",
    "#Iterate\n",
    "for sentence in doc.sentences:\n",
    "    for word in sentence.words:\n",
    "        print(word.text,\"-->\",word.lemma)"
   ]
  },
  {
   "cell_type": "code",
   "execution_count": 7,
   "id": "d68dcb09-682b-4ef3-a2e4-b4e5fabb83f3",
   "metadata": {},
   "outputs": [
    {
     "name": "stderr",
     "output_type": "stream",
     "text": [
      "[nltk_data] Downloading package vader_lexicon to\n",
      "[nltk_data]     C:\\Users\\atmiya\\AppData\\Roaming\\nltk_data...\n",
      "[nltk_data]   Package vader_lexicon is already up-to-date!\n"
     ]
    },
    {
     "data": {
      "text/plain": [
       "True"
      ]
     },
     "execution_count": 7,
     "metadata": {},
     "output_type": "execute_result"
    }
   ],
   "source": [
    "\n",
    "#Sentiment analysis\n",
    "import nltk\n",
    "nltk.download('vader_lexicon')\n",
    "\n"
   ]
  },
  {
   "cell_type": "code",
   "execution_count": 8,
   "id": "6ca80da5-038f-4a93-85c3-889e686573c5",
   "metadata": {},
   "outputs": [
    {
     "name": "stdout",
     "output_type": "stream",
     "text": [
      "I love this product! It's amazing. --> {'neg': 0.0, 'neu': 0.266, 'pos': 0.734, 'compound': 0.8516}\n",
      "This is the worst product ever. --> {'neg': 0.451, 'neu': 0.549, 'pos': 0.0, 'compound': -0.6249}\n",
      "The product was okay, not great but not bad either. --> {'neg': 0.149, 'neu': 0.487, 'pos': 0.364, 'compound': 0.4728}\n"
     ]
    }
   ],
   "source": [
    "\n",
    "#Sentiment analysis using vader\n",
    "import nltk\n",
    "from nltk.sentiment.vader import SentimentIntensityAnalyzer\n",
    "#Initializing the analyzer\n",
    "analyzer=SentimentIntensityAnalyzer() #This line creates an object of the class SentimentIntensityAnalyzer,\n",
    "                                      #it Loads VADER sentiment Lexicon (dictionary of ~7,500 words, emojis, emoticons, acronyms,\\\n",
    "                                      #with pre-assigned sentiment score.\n",
    "\n",
    "sentences=[\n",
    "    \"I love this product! It's amazing.\",\n",
    "    \"This is the worst product ever.\",\n",
    "    \"The product was okay, not great but not bad either.\"\n",
    "]\n",
    "\n",
    "for text in sentences:\n",
    "    scores=analyzer.polarity_scores(text)\n",
    "    print(text,\"-->\",scores)"
   ]
  },
  {
   "cell_type": "code",
   "execution_count": 13,
   "id": "b89e67f1-d5e8-4442-b9da-41e12da98d5f",
   "metadata": {},
   "outputs": [
    {
     "data": {
      "image/png": "[encoded data removed]",
      "text/plain": [
       "<Figure size 1000x400 with 1 Axes>"
      ]
     },
     "metadata": {},
     "output_type": "display_data"
    }
   ],
   "source": [
    "#Reading and plotting Audio Data\n",
    "#pip install librosa\n",
    "import librosa\n",
    "import librosa.display\n",
    "import matplotlib.pyplot as plt\n",
    "\n",
    "#Load an audio file\n",
    "audio_file=\"sample2.wav\"\n",
    "y,sr=librosa.load(audio_file)\n",
    "#plot the wave file\n",
    "plt.figure(figsize=(10,4))\n",
    "librosa.display.waveshow(y,sr=sr)\n",
    "plt.title('Audio wave')\n",
    "plt.xlabel('Seconds')\n",
    "plt.ylabel('Amplitude')\n",
    "plt.show()"
   ]
  },
  {
   "cell_type": "code",
   "execution_count": 9,
   "id": "f84f258e-8083-422e-b617-834af8fd0da3",
   "metadata": {},
   "outputs": [],
   "source": [
    "#creating music artificially\n",
    "#pip install sounddevice\n",
    "import numpy as np\n",
    "import sounddevice as sd\n",
    "\n",
    "#defining the sampleing rate per second\n",
    "sr=44100\n",
    "duration=2.0\n",
    "freqs=440\n",
    "t=np.linspace(0,duration,int(sr*duration),endpoint=False)\n",
    "y=0.5*np.sin(2*np.pi*freqs*t)\n",
    "sd.play(y,sr)\n",
    "sd.wait()"
   ]
  },
  {
   "cell_type": "code",
   "execution_count": 10,
   "id": "49b10161-5b21-4eaf-9d81-389aceb0d519",
   "metadata": {},
   "outputs": [
    {
     "name": "stderr",
     "output_type": "stream",
     "text": [
      "C:\\Users\\atmiya\\AppData\\Local\\Temp\\ipykernel_2980\\1904812550.py:10: UserWarning: PySoundFile failed. Trying audioread instead.\n",
      "  y,sr=librosa.load(file_path,duration=3) #Load the audio file into the y: sound and sampling rate (sr), 3 sec of audio\n"
     ]
    },
    {
     "ename": "FileNotFoundError",
     "evalue": "[Errno 2] No such file or directory: 'D:\\\\Academics\\\\ML\\\\x.wav'",
     "output_type": "error",
     "traceback": [
      "\u001b[1;31m---------------------------------------------------------------------------\u001b[0m",
      "\u001b[1;31mLibsndfileError\u001b[0m                           Traceback (most recent call last)",
      "File \u001b[1;32m~\\AppData\\Local\\Programs\\Python\\Python310\\lib\\site-packages\\librosa\\core\\audio.py:176\u001b[0m, in \u001b[0;36mload\u001b[1;34m(path, sr, mono, offset, duration, dtype, res_type)\u001b[0m\n\u001b[0;32m    175\u001b[0m \u001b[38;5;28;01mtry\u001b[39;00m:\n\u001b[1;32m--> 176\u001b[0m     y, sr_native \u001b[38;5;241m=\u001b[39m \u001b[43m__soundfile_load\u001b[49m\u001b[43m(\u001b[49m\u001b[43mpath\u001b[49m\u001b[43m,\u001b[49m\u001b[43m \u001b[49m\u001b[43moffset\u001b[49m\u001b[43m,\u001b[49m\u001b[43m \u001b[49m\u001b[43mduration\u001b[49m\u001b[43m,\u001b[49m\u001b[43m \u001b[49m\u001b[43mdtype\u001b[49m\u001b[43m)\u001b[49m\n\u001b[0;32m    178\u001b[0m \u001b[38;5;28;01mexcept\u001b[39;00m sf\u001b[38;5;241m.\u001b[39mSoundFileRuntimeError \u001b[38;5;28;01mas\u001b[39;00m exc:\n\u001b[0;32m    179\u001b[0m     \u001b[38;5;66;03m# If soundfile failed, try audioread instead\u001b[39;00m\n",
      "File \u001b[1;32m~\\AppData\\Local\\Programs\\Python\\Python310\\lib\\site-packages\\librosa\\core\\audio.py:209\u001b[0m, in \u001b[0;36m__soundfile_load\u001b[1;34m(path, offset, duration, dtype)\u001b[0m\n\u001b[0;32m    207\u001b[0m \u001b[38;5;28;01melse\u001b[39;00m:\n\u001b[0;32m    208\u001b[0m     \u001b[38;5;66;03m# Otherwise, create the soundfile object\u001b[39;00m\n\u001b[1;32m--> 209\u001b[0m     context \u001b[38;5;241m=\u001b[39m \u001b[43msf\u001b[49m\u001b[38;5;241;43m.\u001b[39;49m\u001b[43mSoundFile\u001b[49m\u001b[43m(\u001b[49m\u001b[43mpath\u001b[49m\u001b[43m)\u001b[49m\n\u001b[0;32m    211\u001b[0m \u001b[38;5;28;01mwith\u001b[39;00m context \u001b[38;5;28;01mas\u001b[39;00m sf_desc:\n",
      "File \u001b[1;32m~\\AppData\\Local\\Programs\\Python\\Python310\\lib\\site-packages\\soundfile.py:690\u001b[0m, in \u001b[0;36mSoundFile.__init__\u001b[1;34m(self, file, mode, samplerate, channels, subtype, endian, format, closefd, compression_level, bitrate_mode)\u001b[0m\n\u001b[0;32m    688\u001b[0m \u001b[38;5;28mself\u001b[39m\u001b[38;5;241m.\u001b[39m_info \u001b[38;5;241m=\u001b[39m _create_info_struct(file, mode, samplerate, channels,\n\u001b[0;32m    689\u001b[0m                                  \u001b[38;5;28mformat\u001b[39m, subtype, endian)\n\u001b[1;32m--> 690\u001b[0m \u001b[38;5;28mself\u001b[39m\u001b[38;5;241m.\u001b[39m_file \u001b[38;5;241m=\u001b[39m \u001b[38;5;28;43mself\u001b[39;49m\u001b[38;5;241;43m.\u001b[39;49m\u001b[43m_open\u001b[49m\u001b[43m(\u001b[49m\u001b[43mfile\u001b[49m\u001b[43m,\u001b[49m\u001b[43m \u001b[49m\u001b[43mmode_int\u001b[49m\u001b[43m,\u001b[49m\u001b[43m \u001b[49m\u001b[43mclosefd\u001b[49m\u001b[43m)\u001b[49m\n\u001b[0;32m    691\u001b[0m \u001b[38;5;28;01mif\u001b[39;00m \u001b[38;5;28mset\u001b[39m(mode)\u001b[38;5;241m.\u001b[39missuperset(\u001b[38;5;124m'\u001b[39m\u001b[38;5;124mr+\u001b[39m\u001b[38;5;124m'\u001b[39m) \u001b[38;5;129;01mand\u001b[39;00m \u001b[38;5;28mself\u001b[39m\u001b[38;5;241m.\u001b[39mseekable():\n\u001b[0;32m    692\u001b[0m     \u001b[38;5;66;03m# Move write position to 0 (like in Python file objects)\u001b[39;00m\n",
      "File \u001b[1;32m~\\AppData\\Local\\Programs\\Python\\Python310\\lib\\site-packages\\soundfile.py:1265\u001b[0m, in \u001b[0;36mSoundFile._open\u001b[1;34m(self, file, mode_int, closefd)\u001b[0m\n\u001b[0;32m   1264\u001b[0m     err \u001b[38;5;241m=\u001b[39m _snd\u001b[38;5;241m.\u001b[39msf_error(file_ptr)\n\u001b[1;32m-> 1265\u001b[0m     \u001b[38;5;28;01mraise\u001b[39;00m LibsndfileError(err, prefix\u001b[38;5;241m=\u001b[39m\u001b[38;5;124m\"\u001b[39m\u001b[38;5;124mError opening \u001b[39m\u001b[38;5;132;01m{0!r}\u001b[39;00m\u001b[38;5;124m: \u001b[39m\u001b[38;5;124m\"\u001b[39m\u001b[38;5;241m.\u001b[39mformat(\u001b[38;5;28mself\u001b[39m\u001b[38;5;241m.\u001b[39mname))\n\u001b[0;32m   1266\u001b[0m \u001b[38;5;28;01mif\u001b[39;00m mode_int \u001b[38;5;241m==\u001b[39m _snd\u001b[38;5;241m.\u001b[39mSFM_WRITE:\n\u001b[0;32m   1267\u001b[0m     \u001b[38;5;66;03m# Due to a bug in libsndfile version <= 1.0.25, frames != 0\u001b[39;00m\n\u001b[0;32m   1268\u001b[0m     \u001b[38;5;66;03m# when opening a named pipe in SFM_WRITE mode.\u001b[39;00m\n\u001b[0;32m   1269\u001b[0m     \u001b[38;5;66;03m# See http://github.com/erikd/libsndfile/issues/77.\u001b[39;00m\n",
      "\u001b[1;31mLibsndfileError\u001b[0m: Error opening 'D:\\\\Academics\\\\ML\\\\x.wav': System error.",
      "\nDuring handling of the above exception, another exception occurred:\n",
      "\u001b[1;31mFileNotFoundError\u001b[0m                         Traceback (most recent call last)",
      "Cell \u001b[1;32mIn[10], line 25\u001b[0m\n\u001b[0;32m     23\u001b[0m x,y\u001b[38;5;241m=\u001b[39m[],[]\n\u001b[0;32m     24\u001b[0m \u001b[38;5;28;01mfor\u001b[39;00m speaker, file \u001b[38;5;129;01min\u001b[39;00m train_files\u001b[38;5;241m.\u001b[39mitems():\n\u001b[1;32m---> 25\u001b[0m     features\u001b[38;5;241m=\u001b[39m\u001b[43mextract_features\u001b[49m\u001b[43m(\u001b[49m\u001b[43mfile\u001b[49m\u001b[43m)\u001b[49m\n\u001b[0;32m     26\u001b[0m     X\u001b[38;5;241m.\u001b[39mappend(features)\n\u001b[0;32m     27\u001b[0m     Y\u001b[38;5;241m.\u001b[39mappend(speaker)\n",
      "Cell \u001b[1;32mIn[10], line 10\u001b[0m, in \u001b[0;36mextract_features\u001b[1;34m(file_path)\u001b[0m\n\u001b[0;32m      9\u001b[0m \u001b[38;5;28;01mdef\u001b[39;00m\u001b[38;5;250m \u001b[39m\u001b[38;5;21mextract_features\u001b[39m(file_path):\n\u001b[1;32m---> 10\u001b[0m     y,sr\u001b[38;5;241m=\u001b[39m\u001b[43mlibrosa\u001b[49m\u001b[38;5;241;43m.\u001b[39;49m\u001b[43mload\u001b[49m\u001b[43m(\u001b[49m\u001b[43mfile_path\u001b[49m\u001b[43m,\u001b[49m\u001b[43mduration\u001b[49m\u001b[38;5;241;43m=\u001b[39;49m\u001b[38;5;241;43m3\u001b[39;49m\u001b[43m)\u001b[49m \u001b[38;5;66;03m#Load the audio file into the y: sound and sampling rate (sr), 3 sec of audio\u001b[39;00m\n\u001b[0;32m     11\u001b[0m     mfcc\u001b[38;5;241m=\u001b[39mlibrosa\u001b[38;5;241m.\u001b[39mfeature\u001b[38;5;241m.\u001b[39mmfcc(y\u001b[38;5;241m=\u001b[39my,sr\u001b[38;5;241m=\u001b[39msr,n_mfcc\u001b[38;5;241m=\u001b[39m\u001b[38;5;241m13\u001b[39m) \u001b[38;5;66;03m#MFCC capture the tone, pitch, and timber of a voice\u001b[39;00m\n\u001b[0;32m     12\u001b[0m                                                    \u001b[38;5;66;03m#Extracts 13 features for each frame of audio\u001b[39;00m\n\u001b[0;32m     13\u001b[0m                                                    \u001b[38;5;66;03m# y is the parameter, the other y is value of amplitude,\u001b[39;00m\n\u001b[0;32m     14\u001b[0m                                                    \u001b[38;5;66;03m# sr is the parameter and the other sr is value of sample rate\u001b[39;00m\n",
      "File \u001b[1;32m~\\AppData\\Local\\Programs\\Python\\Python310\\lib\\site-packages\\librosa\\core\\audio.py:184\u001b[0m, in \u001b[0;36mload\u001b[1;34m(path, sr, mono, offset, duration, dtype, res_type)\u001b[0m\n\u001b[0;32m    180\u001b[0m \u001b[38;5;28;01mif\u001b[39;00m \u001b[38;5;28misinstance\u001b[39m(path, (\u001b[38;5;28mstr\u001b[39m, pathlib\u001b[38;5;241m.\u001b[39mPurePath)):\n\u001b[0;32m    181\u001b[0m     warnings\u001b[38;5;241m.\u001b[39mwarn(\n\u001b[0;32m    182\u001b[0m         \u001b[38;5;124m\"\u001b[39m\u001b[38;5;124mPySoundFile failed. Trying audioread instead.\u001b[39m\u001b[38;5;124m\"\u001b[39m, stacklevel\u001b[38;5;241m=\u001b[39m\u001b[38;5;241m2\u001b[39m\n\u001b[0;32m    183\u001b[0m     )\n\u001b[1;32m--> 184\u001b[0m     y, sr_native \u001b[38;5;241m=\u001b[39m \u001b[43m__audioread_load\u001b[49m\u001b[43m(\u001b[49m\u001b[43mpath\u001b[49m\u001b[43m,\u001b[49m\u001b[43m \u001b[49m\u001b[43moffset\u001b[49m\u001b[43m,\u001b[49m\u001b[43m \u001b[49m\u001b[43mduration\u001b[49m\u001b[43m,\u001b[49m\u001b[43m \u001b[49m\u001b[43mdtype\u001b[49m\u001b[43m)\u001b[49m\n\u001b[0;32m    185\u001b[0m \u001b[38;5;28;01melse\u001b[39;00m:\n\u001b[0;32m    186\u001b[0m     \u001b[38;5;28;01mraise\u001b[39;00m exc\n",
      "File \u001b[1;32m~\\AppData\\Local\\Programs\\Python\\Python310\\lib\\site-packages\\decorator.py:232\u001b[0m, in \u001b[0;36mdecorate.<locals>.fun\u001b[1;34m(*args, **kw)\u001b[0m\n\u001b[0;32m    230\u001b[0m \u001b[38;5;28;01mif\u001b[39;00m \u001b[38;5;129;01mnot\u001b[39;00m kwsyntax:\n\u001b[0;32m    231\u001b[0m     args, kw \u001b[38;5;241m=\u001b[39m fix(args, kw, sig)\n\u001b[1;32m--> 232\u001b[0m \u001b[38;5;28;01mreturn\u001b[39;00m caller(func, \u001b[38;5;241m*\u001b[39m(extras \u001b[38;5;241m+\u001b[39m args), \u001b[38;5;241m*\u001b[39m\u001b[38;5;241m*\u001b[39mkw)\n",
      "File \u001b[1;32m~\\AppData\\Local\\Programs\\Python\\Python310\\lib\\site-packages\\librosa\\util\\decorators.py:63\u001b[0m, in \u001b[0;36mdeprecated.<locals>.__wrapper\u001b[1;34m(func, *args, **kwargs)\u001b[0m\n\u001b[0;32m     54\u001b[0m \u001b[38;5;250m\u001b[39m\u001b[38;5;124;03m\"\"\"Warn the user, and then proceed.\"\"\"\u001b[39;00m\n\u001b[0;32m     55\u001b[0m warnings\u001b[38;5;241m.\u001b[39mwarn(\n\u001b[0;32m     56\u001b[0m     \u001b[38;5;124m\"\u001b[39m\u001b[38;5;132;01m{:s}\u001b[39;00m\u001b[38;5;124m.\u001b[39m\u001b[38;5;132;01m{:s}\u001b[39;00m\u001b[38;5;130;01m\\n\u001b[39;00m\u001b[38;5;130;01m\\t\u001b[39;00m\u001b[38;5;124mDeprecated as of librosa version \u001b[39m\u001b[38;5;132;01m{:s}\u001b[39;00m\u001b[38;5;124m.\u001b[39m\u001b[38;5;124m\"\u001b[39m\n\u001b[0;32m     57\u001b[0m     \u001b[38;5;124m\"\u001b[39m\u001b[38;5;130;01m\\n\u001b[39;00m\u001b[38;5;130;01m\\t\u001b[39;00m\u001b[38;5;124mIt will be removed in librosa version \u001b[39m\u001b[38;5;132;01m{:s}\u001b[39;00m\u001b[38;5;124m.\u001b[39m\u001b[38;5;124m\"\u001b[39m\u001b[38;5;241m.\u001b[39mformat(\n\u001b[1;32m   (...)\u001b[0m\n\u001b[0;32m     61\u001b[0m     stacklevel\u001b[38;5;241m=\u001b[39m\u001b[38;5;241m3\u001b[39m,  \u001b[38;5;66;03m# Would be 2, but the decorator adds a level\u001b[39;00m\n\u001b[0;32m     62\u001b[0m )\n\u001b[1;32m---> 63\u001b[0m \u001b[38;5;28;01mreturn\u001b[39;00m func(\u001b[38;5;241m*\u001b[39margs, \u001b[38;5;241m*\u001b[39m\u001b[38;5;241m*\u001b[39mkwargs)\n",
      "File \u001b[1;32m~\\AppData\\Local\\Programs\\Python\\Python310\\lib\\site-packages\\librosa\\core\\audio.py:240\u001b[0m, in \u001b[0;36m__audioread_load\u001b[1;34m(path, offset, duration, dtype)\u001b[0m\n\u001b[0;32m    237\u001b[0m     reader \u001b[38;5;241m=\u001b[39m path\n\u001b[0;32m    238\u001b[0m \u001b[38;5;28;01melse\u001b[39;00m:\n\u001b[0;32m    239\u001b[0m     \u001b[38;5;66;03m# If the input was not an audioread object, try to open it\u001b[39;00m\n\u001b[1;32m--> 240\u001b[0m     reader \u001b[38;5;241m=\u001b[39m \u001b[43maudioread\u001b[49m\u001b[38;5;241;43m.\u001b[39;49m\u001b[43maudio_open\u001b[49m\u001b[43m(\u001b[49m\u001b[43mpath\u001b[49m\u001b[43m)\u001b[49m\n\u001b[0;32m    242\u001b[0m \u001b[38;5;28;01mwith\u001b[39;00m reader \u001b[38;5;28;01mas\u001b[39;00m input_file:\n\u001b[0;32m    243\u001b[0m     sr_native \u001b[38;5;241m=\u001b[39m input_file\u001b[38;5;241m.\u001b[39msamplerate\n",
      "File \u001b[1;32m~\\AppData\\Local\\Programs\\Python\\Python310\\lib\\site-packages\\audioread\\__init__.py:127\u001b[0m, in \u001b[0;36maudio_open\u001b[1;34m(path, backends)\u001b[0m\n\u001b[0;32m    125\u001b[0m \u001b[38;5;28;01mfor\u001b[39;00m BackendClass \u001b[38;5;129;01min\u001b[39;00m backends:\n\u001b[0;32m    126\u001b[0m     \u001b[38;5;28;01mtry\u001b[39;00m:\n\u001b[1;32m--> 127\u001b[0m         \u001b[38;5;28;01mreturn\u001b[39;00m \u001b[43mBackendClass\u001b[49m\u001b[43m(\u001b[49m\u001b[43mpath\u001b[49m\u001b[43m)\u001b[49m\n\u001b[0;32m    128\u001b[0m     \u001b[38;5;28;01mexcept\u001b[39;00m DecodeError:\n\u001b[0;32m    129\u001b[0m         \u001b[38;5;28;01mpass\u001b[39;00m\n",
      "File \u001b[1;32m~\\AppData\\Local\\Programs\\Python\\Python310\\lib\\site-packages\\audioread\\rawread.py:59\u001b[0m, in \u001b[0;36mRawAudioFile.__init__\u001b[1;34m(self, filename)\u001b[0m\n\u001b[0;32m     58\u001b[0m \u001b[38;5;28;01mdef\u001b[39;00m\u001b[38;5;250m \u001b[39m\u001b[38;5;21m__init__\u001b[39m(\u001b[38;5;28mself\u001b[39m, filename):\n\u001b[1;32m---> 59\u001b[0m     \u001b[38;5;28mself\u001b[39m\u001b[38;5;241m.\u001b[39m_fh \u001b[38;5;241m=\u001b[39m \u001b[38;5;28;43mopen\u001b[39;49m\u001b[43m(\u001b[49m\u001b[43mfilename\u001b[49m\u001b[43m,\u001b[49m\u001b[43m \u001b[49m\u001b[38;5;124;43m'\u001b[39;49m\u001b[38;5;124;43mrb\u001b[39;49m\u001b[38;5;124;43m'\u001b[39;49m\u001b[43m)\u001b[49m\n\u001b[0;32m     61\u001b[0m     \u001b[38;5;28;01mtry\u001b[39;00m:\n\u001b[0;32m     62\u001b[0m         \u001b[38;5;28mself\u001b[39m\u001b[38;5;241m.\u001b[39m_file \u001b[38;5;241m=\u001b[39m aifc\u001b[38;5;241m.\u001b[39mopen(\u001b[38;5;28mself\u001b[39m\u001b[38;5;241m.\u001b[39m_fh)\n",
      "\u001b[1;31mFileNotFoundError\u001b[0m: [Errno 2] No such file or directory: 'D:\\\\Academics\\\\ML\\\\x.wav'"
     ]
    }
   ],
   "source": [
    "#Identifying the speaker\n",
    "import numpy as np\n",
    "import librosa\n",
    "from sklearn.neighbors import KNeighborsClassifier\n",
    "import sounddevice as sd\n",
    "import soundfile as sf\n",
    "\n",
    "#Extracting features (MFCC)\n",
    "def extract_features(file_path):\n",
    "    y,sr=librosa.load(file_path,duration=3) #Load the audio file into the y: sound and sampling rate (sr), 3 sec of audio\n",
    "    mfcc=librosa.feature.mfcc(y=y,sr=sr,n_mfcc=13) #MFCC capture the tone, pitch, and timber of a voice\n",
    "                                                   #Extracts 13 features for each frame of audio\n",
    "                                                   # y is the parameter, the other y is value of amplitude,\n",
    "                                                   # sr is the parameter and the other sr is value of sample rate\n",
    "    return np.mean(mfcc.T,axis=0) #Averages the MFCC over time\n",
    "\n",
    "#Audio sample of the speakers\n",
    "train_files={\n",
    "    \"X\":r\"D:\\Academics\\ML\\x.wav\",\n",
    "    \"Y\":r\"D:\\Academics\\ML\\y.wav\",\n",
    "}\n",
    "\n",
    "x,y=[],[]\n",
    "for speaker, file in train_files.items():\n",
    "    features=extract_features(file)\n",
    "    X.append(features)\n",
    "    Y.append(speaker)\n",
    "\n",
    "#Train the classifier\n",
    "model=KNeighborsClassifier(n_neighbors=1)\n",
    "model.fit(X,y)\n",
    "\n",
    "#Record audio\n",
    "duration=3 #seconds\n",
    "print('Please speak something')\n",
    "\n",
    "#Record from microphone\n",
    "recording=sd.rec(int(duration*44100),samplerate=44100, channel=1)\n",
    "sd.wait() #wait until the recording is done\n",
    "#saving the recorded file\n",
    "test_file='test_live.wav'\n",
    "sf.write(test_file,recording,44100)"
   ]
  },
  {
   "cell_type": "code",
   "execution_count": 13,
   "id": "f3b18bc4-2681-44dc-bb7c-ea9426a7ac77",
   "metadata": {},
   "outputs": [
    {
     "ename": "ModuleNotFoundError",
     "evalue": "No module named 'speech_recognition'",
     "output_type": "error",
     "traceback": [
      "\u001b[1;31m---------------------------------------------------------------------------\u001b[0m",
      "\u001b[1;31mModuleNotFoundError\u001b[0m                       Traceback (most recent call last)",
      "Cell \u001b[1;32mIn[13], line 4\u001b[0m\n\u001b[0;32m      1\u001b[0m \u001b[38;5;66;03m# Audio to text\u001b[39;00m\n\u001b[0;32m      2\u001b[0m \u001b[38;5;66;03m# pip install speech_recognition\u001b[39;00m\n\u001b[1;32m----> 4\u001b[0m \u001b[38;5;28;01mimport\u001b[39;00m\u001b[38;5;250m \u001b[39m\u001b[38;5;21;01mspeech_recognition\u001b[39;00m\u001b[38;5;250m \u001b[39m\u001b[38;5;28;01mas\u001b[39;00m\u001b[38;5;250m \u001b[39m\u001b[38;5;21;01msr\u001b[39;00m\n\u001b[0;32m      6\u001b[0m \u001b[38;5;66;03m# Initialising the recognizer\u001b[39;00m\n\u001b[0;32m      7\u001b[0m recognizer\u001b[38;5;241m=\u001b[39msr\u001b[38;5;241m.\u001b[39mRecognizer()\n",
      "\u001b[1;31mModuleNotFoundError\u001b[0m: No module named 'speech_recognition'"
     ]
    }
   ],
   "source": [
    "# Audio to text\n",
    "# pip install speech_recognition\n",
    "\n",
    "import speech_recognition as sr\n",
    "\n",
    "# Initialising the recognizer\n",
    "recognizer=sr.Recognizer()\n",
    "\n",
    "# Use a microphone as a source\n",
    "with sr.Microphone() as source:\n",
    "    print('Say something...')\n",
    "    audio=recognizer.listen(source)\n",
    "\n",
    "# Converting speech to text using Google API\n",
    "text=recognizer.recognize_google(audio)\n",
    "print('You said:', text)"
   ]
  },
  {
   "cell_type": "code",
   "execution_count": null,
   "id": "0c5e902e-7536-4b78-bbf6-678ee9e5f15d",
   "metadata": {},
   "outputs": [],
   "source": []
  }
 ],
 "metadata": {
  "kernelspec": {
   "display_name": "Python 3 (ipykernel)",
   "language": "python",
   "name": "python3"
  },
  "language_info": {
   "codemirror_mode": {
    "name": "ipython",
    "version": 3
   },
   "file_extension": ".py",
   "mimetype": "text/x-python",
   "name": "python",
   "nbconvert_exporter": "python",
   "pygments_lexer": "ipython3",
   "version": "3.10.2"
  }
 },
 "nbformat": 4,
 "nbformat_minor": 5
}
