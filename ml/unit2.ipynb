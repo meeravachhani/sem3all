{
 "cells": [
  {
   "cell_type": "code",
   "execution_count": 5,
   "id": "e31fdafa-3cff-4512-9a75-8f3e0e92f05d",
   "metadata": {},
   "outputs": [
    {
     "name": "stdout",
     "output_type": "stream",
     "text": [
      "[[-4.]\n",
      " [-2.]\n",
      " [ 0.]\n",
      " [ 2.]\n",
      " [ 4.]]\n",
      "[2.82842712]\n",
      "[0.]\n",
      "[[-1.41421356]\n",
      " [-0.70710678]\n",
      " [ 0.        ]\n",
      " [ 0.70710678]\n",
      " [ 1.41421356]]\n",
      "[0.]\n"
     ]
    }
   ],
   "source": [
    "#unit 2\n",
    "#pre processing\n",
    "#mean removel\n",
    "import numpy as np\n",
    "from sklearn import preprocessing\n",
    "\n",
    "data=np.array([[2],[4],[6],[8],[10]])\n",
    "\n",
    "mean=data.mean(axis=0)\n",
    "mean_removed=data-mean\n",
    "print(mean_removed)\n",
    "print(mean_removed.std(axis=0))\n",
    "print(mean_removed.mean(axis=0))\n",
    "data_standardize=preprocessing.scale(data)\n",
    "print(data_standardize)\n",
    "print(data_standardize.mean(axis=0))"
   ]
  },
  {
   "cell_type": "code",
   "execution_count": 6,
   "id": "49361e41-d425-4d93-9788-ee05e4e9db1c",
   "metadata": {},
   "outputs": [
    {
     "name": "stdout",
     "output_type": "stream",
     "text": [
      "[[10]\n",
      " [20]\n",
      " [30]\n",
      " [40]\n",
      " [50]]\n",
      "**************************************************\n",
      "[[0.  ]\n",
      " [0.25]\n",
      " [0.5 ]\n",
      " [0.75]\n",
      " [1.  ]]\n"
     ]
    }
   ],
   "source": [
    "#scaling\n",
    "import numpy as np\n",
    "from sklearn import preprocessing\n",
    "\n",
    "data=np.array([[10],[20],[30],[40],[50]])\n",
    "print(data)\n",
    "print('*'*50)\n",
    "data_scaler=preprocessing.MinMaxScaler(feature_range=(0,1))\n",
    "scaled_data=data_scaler.fit_transform(data)\n",
    "print(scaled_data)"
   ]
  },
  {
   "cell_type": "code",
   "execution_count": 10,
   "id": "02e6f4a7-39e3-4e67-9878-832fc1c0a65e",
   "metadata": {},
   "outputs": [
    {
     "name": "stdout",
     "output_type": "stream",
     "text": [
      "[[ 3  4]\n",
      " [ 1  2]\n",
      " [ 5 12]]\n",
      "**************************************************\n",
      "[[0.42857143 0.57142857]\n",
      " [0.33333333 0.66666667]\n",
      " [0.29411765 0.70588235]]\n",
      "**************************************************\n",
      "[[0.6        0.8       ]\n",
      " [0.4472136  0.89442719]\n",
      " [0.38461538 0.92307692]]\n"
     ]
    }
   ],
   "source": [
    "#normlization\n",
    "import numpy as np\n",
    "from sklearn import preprocessing\n",
    "\n",
    "#dataset (will take 2 columns per record)\n",
    "data=np.array([[3,4],[1,2],[5,12]])\n",
    "print(data)\n",
    "print('*'*50)\n",
    "#l1 normlization\n",
    "normalise_l1=preprocessing.normalize(data,norm='l1')\n",
    "print(normalise_l1)\n",
    "print('*'*50)\n",
    "#l2 normlization\n",
    "normalise_l2=preprocessing.normalize(data,norm='l2')\n",
    "print(normalise_l2)"
   ]
  },
  {
   "cell_type": "code",
   "execution_count": 12,
   "id": "31d25ddc-ed37-4f19-a317-fa433cde5276",
   "metadata": {},
   "outputs": [
    {
     "name": "stdout",
     "output_type": "stream",
     "text": [
      "[[10.2 ]\n",
      " [11.2 ]\n",
      " [ 9.21]\n",
      " [20.3 ]\n",
      " [10.  ]]\n",
      "**************************************************\n",
      "[[0.]\n",
      " [1.]\n",
      " [0.]\n",
      " [1.]\n",
      " [0.]]\n"
     ]
    }
   ],
   "source": [
    "#binarization\n",
    "import numpy as np\n",
    "from sklearn import preprocessing\n",
    "\n",
    "data=np.array([[10.2],[11.2],[9.21],[20.3],[10]])\n",
    "print(data)\n",
    "print('*'*50)\n",
    "binariz_data=preprocessing.Binarizer(threshold=10.2).transform(data)\n",
    "print(binariz_data)"
   ]
  },
  {
   "cell_type": "code",
   "execution_count": 14,
   "id": "f3bfdd53-b0ba-4b08-acca-d62b53bc0881",
   "metadata": {},
   "outputs": [
    {
     "name": "stdout",
     "output_type": "stream",
     "text": [
      "['mengo', 'banana', 'apple', 'grapes', 'apple', 'mango']\n",
      "Encoded labels: [4 1 0 2 0 3]\n",
      "[4 1]\n",
      "['mango' 'banana']\n"
     ]
    }
   ],
   "source": [
    "#label encoding\n",
    "from sklearn import preprocessing\n",
    "#data\n",
    "labels=['mengo','banana','apple','grapes','apple','mango']\n",
    "print(labels)\n",
    "#encoding\n",
    "label_encoder=preprocessing.LabelEncoder()\n",
    "op=label_encoder.fit_transform(labels)\n",
    "print('Encoded labels:',op)\n",
    "#testing\n",
    "test_labels=['mengo','banana']\n",
    "print(label_encoder.transform(test_labels))\n",
    "test_code=[3,1]\n",
    "print(label_encoder.inverse_transform(test_code))"
   ]
  },
  {
   "cell_type": "code",
   "execution_count": null,
   "id": "59a46e00-4c65-4d1f-abd5-81cace4d61eb",
   "metadata": {},
   "outputs": [],
   "source": []
  }
 ],
 "metadata": {
  "kernelspec": {
   "display_name": "Python 3 (ipykernel)",
   "language": "python",
   "name": "python3"
  },
  "language_info": {
   "codemirror_mode": {
    "name": "ipython",
    "version": 3
   },
   "file_extension": ".py",
   "mimetype": "text/x-python",
   "name": "python",
   "nbconvert_exporter": "python",
   "pygments_lexer": "ipython3",
   "version": "3.10.2"
  }
 },
 "nbformat": 4,
 "nbformat_minor": 5
}
